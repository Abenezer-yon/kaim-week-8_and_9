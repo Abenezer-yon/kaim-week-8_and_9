{
 "cells": [
  {
   "cell_type": "code",
   "execution_count": null,
   "metadata": {
    "vscode": {
     "languageId": "plaintext"
    }
   },
   "outputs": [],
   "source": [
    "import os,sys\n",
    "\n",
    "notebook_dir = os.getcwd()\n",
    "\n",
    "#add path\n",
    "sys.path.append(os.path.abspath(os.path.join(notebook_dir, '..')))"
   ]
  },
  {
   "cell_type": "code",
   "execution_count": null,
   "metadata": {
    "vscode": {
     "languageId": "plaintext"
    }
   },
   "outputs": [],
   "source": [
    "from scripts.load_data import *\n",
    "from scripts.data_preparation import *\n",
    "from scripts.training_and_evaluation import *"
   ]
  },
  {
   "cell_type": "code",
   "execution_count": null,
   "metadata": {
    "vscode": {
     "languageId": "plaintext"
    }
   },
   "outputs": [],
   "source": [
    "fra_data_path = '../../Data/Fraud_Data.csv'\n",
    "# IpAd_data_path = '../../Data/IpAddress_to_Country.csv'\n",
    "cred_data_path = '../../Data/creditcard.csv/creditcard.csv'\n",
    "\n",
    "loaded_data_fra = load_data(fra_data_path)\n",
    "loaded_data_cred = load_data(cred_data_path)\n",
    "\n",
    "loaded_data_fra.head(5)\n",
    "# loaded_data_cred.head(5)"
   ]
  },
  {
   "cell_type": "code",
   "execution_count": null,
   "metadata": {
    "vscode": {
     "languageId": "plaintext"
    }
   },
   "outputs": [],
   "source": [
    "\n",
    "# Sample only 5000 rows for training\n",
    "df_fraud_sampled = loaded_data_fra.sample(n=5000, random_state=42)\n",
    "df_cred_sampled = loaded_data_cred.sample(n=5000, random_state=42)\n",
    "df_fraud_sampled"
   ]
  },
  {
   "cell_type": "code",
   "execution_count": null,
   "metadata": {
    "vscode": {
     "languageId": "plaintext"
    }
   },
   "outputs": [],
   "source": [
    "\n",
    "# Prepare data\n",
    "X_train_fraud, X_test_fraud, y_train_fraud, y_test_fraud = data_preparation(df_fraud_sampled)\n",
    "X_train_cc, X_test_cc, y_train_cc, y_test_cc = data_preparation(df_cred_sampled)"
   ]
  },
  {
   "cell_type": "code",
   "execution_count": null,
   "metadata": {
    "vscode": {
     "languageId": "plaintext"
    }
   },
   "outputs": [],
   "source": [
    "\n",
    "# Define models\n",
    "models = define_models()"
   ]
  },
  {
   "cell_type": "code",
   "execution_count": null,
   "metadata": {
    "vscode": {
     "languageId": "plaintext"
    }
   },
   "outputs": [],
   "source": [
    "\n",
    "print(X_test_fraud)\n",
    "print(X_test_cc)"
   ]
  },
  {
   "cell_type": "code",
   "execution_count": null,
   "metadata": {
    "vscode": {
     "languageId": "plaintext"
    }
   },
   "outputs": [],
   "source": [
    "# Evaluate models\n",
    "results1 = evaluate_models(X_train_fraud, y_train_fraud, X_test_fraud, y_test_fraud, models)\n",
    "\n",
    "# Print evaluation results\n",
    "for model_name, metrics in results1.items():\n",
    "    trained_model1 = metrics['model']\n",
    "    print(f\"Model: {model_name}\\n{metrics['report']}\\nConfusion Matrix:\\n{metrics['confusion_matrix']}\\nAccuracy: {metrics['accuracy']:.4f}\\n\")\n"
   ]
  },
  {
   "cell_type": "code",
   "execution_count": null,
   "metadata": {
    "vscode": {
     "languageId": "plaintext"
    }
   },
   "outputs": [],
   "source": [
    "# Evaluate models\n",
    "results2 = evaluate_models(X_train_cc, y_train_cc, X_test_cc, y_test_cc, models)\n",
    "\n",
    "# Print evaluation results\n",
    "for model_name, metrics in results2.items():\n",
    "    trained_model2 = metrics['model']\n",
    "    print(f\"Model: {model_name}\\n{metrics['report']}\\nConfusion Matrix:\\n{metrics['confusion_matrix']}\\nAccuracy: {metrics['accuracy']:.4f}\\n\")\n"
   ]
  },
  {
   "cell_type": "code",
   "execution_count": null,
   "metadata": {
    "vscode": {
     "languageId": "plaintext"
    }
   },
   "outputs": [],
   "source": [
    "# Log results\n",
    "log_results(models, X_train_fraud, y_train_fraud, X_test_fraud, y_test_fraud)"
   ]
  },
  {
   "cell_type": "code",
   "execution_count": null,
   "metadata": {
    "vscode": {
     "languageId": "plaintext"
    }
   },
   "outputs": [],
   "source": [
    "from scripts.SHAP_and_LIME import *"
   ]
  },
  {
   "cell_type": "code",
   "execution_count": null,
   "metadata": {
    "vscode": {
     "languageId": "plaintext"
    }
   },
   "outputs": [],
   "source": [
    "print(X_test_cc.columns)"
   ]
  },
  {
   "cell_type": "code",
   "execution_count": null,
   "metadata": {
    "vscode": {
     "languageId": "plaintext"
    }
   },
   "outputs": [],
   "source": [
    "for model_name, metrics in results2.items():\n",
    "    print(f\"Model: {model_name}, Model Object: {metrics['model']}\")"
   ]
  },
  {
   "cell_type": "code",
   "execution_count": null,
   "metadata": {
    "vscode": {
     "languageId": "plaintext"
    }
   },
   "outputs": [],
   "source": [
    "for model_name, metrics in results2.items():\n",
    "    trained_model2 = metrics['model']\n",
    "    shap_values = shap_expl(trained_model2, X_test_cc, K=100)\n",
    "    shap_force_plot(trained_model2, X_test_cc, instance_index=0, K=100)\n"
   ]
  }
 ],
 "metadata": {
  "language_info": {
   "name": "python"
  }
 },
 "nbformat": 4,
 "nbformat_minor": 2
}
